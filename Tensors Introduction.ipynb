{
 "cells": [
  {
   "cell_type": "code",
   "execution_count": 3,
   "id": "367f7f3e",
   "metadata": {},
   "outputs": [],
   "source": [
    "import tensorflow as tf\n",
    "import numpy as np"
   ]
  },
  {
   "cell_type": "markdown",
   "id": "0de4b43e",
   "metadata": {},
   "source": [
    "### Indexes"
   ]
  },
  {
   "cell_type": "code",
   "execution_count": 4,
   "id": "34d475af",
   "metadata": {},
   "outputs": [],
   "source": [
    "a = [1, 2, 3, 4, 5]"
   ]
  },
  {
   "cell_type": "code",
   "execution_count": 5,
   "id": "51e1be5c",
   "metadata": {},
   "outputs": [
    {
     "data": {
      "text/plain": [
       "3"
      ]
     },
     "execution_count": 5,
     "metadata": {},
     "output_type": "execute_result"
    }
   ],
   "source": [
    "a[2]"
   ]
  },
  {
   "cell_type": "code",
   "execution_count": 6,
   "id": "2ad375f2",
   "metadata": {},
   "outputs": [],
   "source": [
    "dd = [[1, 2, 3],\n",
    "      [4, 5, 6],\n",
    "      [7, 8, 9]]"
   ]
  },
  {
   "cell_type": "code",
   "execution_count": 7,
   "id": "3b02c811",
   "metadata": {},
   "outputs": [
    {
     "data": {
      "text/plain": [
       "6"
      ]
     },
     "execution_count": 7,
     "metadata": {},
     "output_type": "execute_result"
    }
   ],
   "source": [
    "dd[1][2]"
   ]
  },
  {
   "cell_type": "markdown",
   "id": "1dcb5bee",
   "metadata": {},
   "source": [
    "### Rank\n",
    "##### The rank of a tensor tells us how many axes a tensor has"
   ]
  },
  {
   "cell_type": "code",
   "execution_count": 8,
   "id": "144e1260",
   "metadata": {},
   "outputs": [],
   "source": [
    "dd = [[1, 2, 3],\n",
    "      [4, 5, 6],\n",
    "      [7, 8, 9]]"
   ]
  },
  {
   "cell_type": "code",
   "execution_count": 9,
   "id": "a533179d",
   "metadata": {},
   "outputs": [
    {
     "data": {
      "text/plain": [
       "[1, 2, 3]"
      ]
     },
     "execution_count": 9,
     "metadata": {},
     "output_type": "execute_result"
    }
   ],
   "source": [
    "dd[0]"
   ]
  },
  {
   "cell_type": "code",
   "execution_count": 10,
   "id": "f7246412",
   "metadata": {},
   "outputs": [
    {
     "data": {
      "text/plain": [
       "[4, 5, 6]"
      ]
     },
     "execution_count": 10,
     "metadata": {},
     "output_type": "execute_result"
    }
   ],
   "source": [
    "dd[1]"
   ]
  },
  {
   "cell_type": "code",
   "execution_count": 11,
   "id": "de5f468c",
   "metadata": {},
   "outputs": [
    {
     "data": {
      "text/plain": [
       "[7, 8, 9]"
      ]
     },
     "execution_count": 11,
     "metadata": {},
     "output_type": "execute_result"
    }
   ],
   "source": [
    "dd[2]"
   ]
  },
  {
   "cell_type": "code",
   "execution_count": 12,
   "id": "35d09b4a",
   "metadata": {},
   "outputs": [
    {
     "data": {
      "text/plain": [
       "3"
      ]
     },
     "execution_count": 12,
     "metadata": {},
     "output_type": "execute_result"
    }
   ],
   "source": [
    "dd[0][2]"
   ]
  },
  {
   "cell_type": "code",
   "execution_count": 13,
   "id": "f79fbd72",
   "metadata": {},
   "outputs": [
    {
     "data": {
      "text/plain": [
       "8"
      ]
     },
     "execution_count": 13,
     "metadata": {},
     "output_type": "execute_result"
    }
   ],
   "source": [
    "dd[2][1]"
   ]
  },
  {
   "cell_type": "code",
   "execution_count": 14,
   "id": "5f401f1f",
   "metadata": {},
   "outputs": [
    {
     "data": {
      "text/plain": [
       "4"
      ]
     },
     "execution_count": 14,
     "metadata": {},
     "output_type": "execute_result"
    }
   ],
   "source": [
    "dd[1][0]"
   ]
  },
  {
   "cell_type": "markdown",
   "id": "6962deb9",
   "metadata": {},
   "source": [
    "### Shape of a Tensor"
   ]
  },
  {
   "cell_type": "code",
   "execution_count": 15,
   "id": "1e7d35fa",
   "metadata": {},
   "outputs": [],
   "source": [
    "dd = [[1, 2, 3],\n",
    "      [4, 5, 6],\n",
    "      [7, 8, 9]]     #dd is a 2-D array"
   ]
  },
  {
   "cell_type": "code",
   "execution_count": 16,
   "id": "cbc53a03",
   "metadata": {},
   "outputs": [
    {
     "data": {
      "text/plain": [
       "<tf.Tensor: shape=(3, 3), dtype=int32, numpy=\n",
       "array([[1, 2, 3],\n",
       "       [4, 5, 6],\n",
       "       [7, 8, 9]])>"
      ]
     },
     "execution_count": 16,
     "metadata": {},
     "output_type": "execute_result"
    }
   ],
   "source": [
    "# First we will create a tensor object\n",
    "t = tf.constant(dd)      # constant() creates a constant tensor\n",
    "t"
   ]
  },
  {
   "cell_type": "code",
   "execution_count": 17,
   "id": "3acf7946",
   "metadata": {},
   "outputs": [
    {
     "data": {
      "text/plain": [
       "tensorflow.python.framework.ops.EagerTensor"
      ]
     },
     "execution_count": 17,
     "metadata": {},
     "output_type": "execute_result"
    }
   ],
   "source": [
    "type(t)"
   ]
  },
  {
   "cell_type": "code",
   "execution_count": 18,
   "id": "c964e725",
   "metadata": {},
   "outputs": [
    {
     "data": {
      "text/plain": [
       "TensorShape([3, 3])"
      ]
     },
     "execution_count": 18,
     "metadata": {},
     "output_type": "execute_result"
    }
   ],
   "source": [
    "t.shape"
   ]
  },
  {
   "cell_type": "markdown",
   "id": "6329a672",
   "metadata": {},
   "source": [
    "### Reshaping a tensor"
   ]
  },
  {
   "cell_type": "code",
   "execution_count": 32,
   "id": "9ef4fba1",
   "metadata": {},
   "outputs": [],
   "source": [
    "t = tf.constant([\n",
    "    [1, 2, 3, 4],\n",
    "    [5, 6, 7, 8],\n",
    "    [9, 10, 11, 12]\n",
    "    ], dtype = tf.float32)"
   ]
  },
  {
   "cell_type": "code",
   "execution_count": 22,
   "id": "cdb2b724",
   "metadata": {},
   "outputs": [
    {
     "name": "stdout",
     "output_type": "stream",
     "text": [
      "tf.Tensor([[ 1.  2.  3.  4.  5.  6.  7.  8.  9. 10. 11. 12.]], shape=(1, 12), dtype=float32)\n"
     ]
    }
   ],
   "source": [
    "reshaped_tensor = tf.reshape(t, [1, 12])\n",
    "print(reshaped_tensor)"
   ]
  },
  {
   "cell_type": "code",
   "execution_count": 24,
   "id": "21111f8a",
   "metadata": {},
   "outputs": [
    {
     "name": "stdout",
     "output_type": "stream",
     "text": [
      "tf.Tensor(\n",
      "[[ 1.  2.  3.  4.  5.  6.]\n",
      " [ 7.  8.  9. 10. 11. 12.]], shape=(2, 6), dtype=float32)\n"
     ]
    }
   ],
   "source": [
    "reshaped_tensor = tf.reshape(t, [2, 6])\n",
    "print(reshaped_tensor)"
   ]
  },
  {
   "cell_type": "code",
   "execution_count": 25,
   "id": "fc7dc48f",
   "metadata": {},
   "outputs": [
    {
     "name": "stdout",
     "output_type": "stream",
     "text": [
      "tf.Tensor(\n",
      "[[ 1.  2.  3.  4.]\n",
      " [ 5.  6.  7.  8.]\n",
      " [ 9. 10. 11. 12.]], shape=(3, 4), dtype=float32)\n"
     ]
    }
   ],
   "source": [
    "reshaped_tensor = tf.reshape(t, [3, 4])\n",
    "print(reshaped_tensor)"
   ]
  },
  {
   "cell_type": "code",
   "execution_count": 26,
   "id": "fd162260",
   "metadata": {},
   "outputs": [
    {
     "name": "stdout",
     "output_type": "stream",
     "text": [
      "tf.Tensor(\n",
      "[[[ 1.  2.  3.]\n",
      "  [ 4.  5.  6.]]\n",
      "\n",
      " [[ 7.  8.  9.]\n",
      "  [10. 11. 12.]]], shape=(2, 2, 3), dtype=float32)\n"
     ]
    }
   ],
   "source": [
    "reshaped_tensor = tf.reshape(t, [2, 2, 3])\n",
    "print(reshaped_tensor)"
   ]
  },
  {
   "cell_type": "code",
   "execution_count": 37,
   "id": "d497420c",
   "metadata": {},
   "outputs": [
    {
     "data": {
      "text/plain": [
       "<tf.Tensor: shape=(2, 6), dtype=float32, numpy=\n",
       "array([[ 1.,  2.,  3.,  4.,  5.,  6.],\n",
       "       [ 7.,  8.,  9., 10., 11., 12.]], dtype=float32)>"
      ]
     },
     "execution_count": 37,
     "metadata": {},
     "output_type": "execute_result"
    }
   ],
   "source": [
    "reshaped_tensor = tf.reshape(t, [2, -1])\n",
    "reshaped_tensor"
   ]
  },
  {
   "cell_type": "markdown",
   "id": "1816b38e",
   "metadata": {},
   "source": [
    "### Squeezing and Unsqueezing a tensor"
   ]
  },
  {
   "cell_type": "code",
   "execution_count": 27,
   "id": "1a0150a6",
   "metadata": {},
   "outputs": [
    {
     "name": "stdout",
     "output_type": "stream",
     "text": [
      "tf.Tensor([[ 1.  2.  3.  4.  5.  6.  7.  8.  9. 10. 11. 12.]], shape=(1, 12), dtype=float32)\n"
     ]
    }
   ],
   "source": [
    "print(tf.reshape(t, [1, 12]))"
   ]
  },
  {
   "cell_type": "code",
   "execution_count": 28,
   "id": "e83010e4",
   "metadata": {},
   "outputs": [
    {
     "name": "stdout",
     "output_type": "stream",
     "text": [
      "(1, 12)\n"
     ]
    }
   ],
   "source": [
    "print(tf.reshape(t, [1, 12]).shape)"
   ]
  },
  {
   "cell_type": "code",
   "execution_count": 29,
   "id": "d5392710",
   "metadata": {},
   "outputs": [
    {
     "name": "stdout",
     "output_type": "stream",
     "text": [
      "tf.Tensor([ 1.  2.  3.  4.  5.  6.  7.  8.  9. 10. 11. 12.], shape=(12,), dtype=float32)\n"
     ]
    }
   ],
   "source": [
    "print(tf.squeeze(tf.reshape(t, [1, 12])))"
   ]
  },
  {
   "cell_type": "code",
   "execution_count": 31,
   "id": "4ffc8eeb",
   "metadata": {},
   "outputs": [
    {
     "name": "stdout",
     "output_type": "stream",
     "text": [
      "(12,)\n"
     ]
    }
   ],
   "source": [
    "print(tf.squeeze(tf.reshape(t, [1, 12])).shape)"
   ]
  },
  {
   "cell_type": "markdown",
   "id": "af2cfee9",
   "metadata": {},
   "source": [
    "### Flatten a Tensor\n",
    "##### squeezing a tensor by building a flatten function."
   ]
  },
  {
   "cell_type": "code",
   "execution_count": 43,
   "id": "e116ab83",
   "metadata": {},
   "outputs": [],
   "source": [
    "def flatten(t):\n",
    "    t = tf.reshape(t, [1, -1])\n",
    "    t = tf.squeeze(t)\n",
    "    return t"
   ]
  },
  {
   "cell_type": "code",
   "execution_count": 44,
   "id": "d52f9d67",
   "metadata": {},
   "outputs": [
    {
     "data": {
      "text/plain": [
       "<tf.Tensor: shape=(4, 3), dtype=float32, numpy=\n",
       "array([[1., 1., 1.],\n",
       "       [1., 1., 1.],\n",
       "       [1., 1., 1.],\n",
       "       [1., 1., 1.]], dtype=float32)>"
      ]
     },
     "execution_count": 44,
     "metadata": {},
     "output_type": "execute_result"
    }
   ],
   "source": [
    "t = tf.ones([4, 3])\n",
    "t"
   ]
  },
  {
   "cell_type": "code",
   "execution_count": 45,
   "id": "11b0e4f6",
   "metadata": {},
   "outputs": [
    {
     "data": {
      "text/plain": [
       "<tf.Tensor: shape=(12,), dtype=float32, numpy=array([1., 1., 1., 1., 1., 1., 1., 1., 1., 1., 1., 1.], dtype=float32)>"
      ]
     },
     "execution_count": 45,
     "metadata": {},
     "output_type": "execute_result"
    }
   ],
   "source": [
    "flatten(t)"
   ]
  },
  {
   "cell_type": "markdown",
   "id": "d931e24d",
   "metadata": {},
   "source": [
    "### Concatenating Tensors"
   ]
  },
  {
   "cell_type": "code",
   "execution_count": 46,
   "id": "ca657411",
   "metadata": {},
   "outputs": [],
   "source": [
    "t1 = tf.constant([\n",
    "    [1, 2],\n",
    "    [3, 4]\n",
    "    ])\n",
    "t2 = tf.constant([\n",
    "    [5, 6],\n",
    "    [7, 8]\n",
    "    ])"
   ]
  },
  {
   "cell_type": "code",
   "execution_count": 49,
   "id": "d31b8e7a",
   "metadata": {},
   "outputs": [
    {
     "data": {
      "text/plain": [
       "<tf.Tensor: shape=(4, 2), dtype=int32, numpy=\n",
       "array([[1, 2],\n",
       "       [3, 4],\n",
       "       [5, 6],\n",
       "       [7, 8]])>"
      ]
     },
     "execution_count": 49,
     "metadata": {},
     "output_type": "execute_result"
    }
   ],
   "source": [
    "tf.concat((t1, t2), axis = 0)"
   ]
  },
  {
   "cell_type": "code",
   "execution_count": 52,
   "id": "a4a89ae2",
   "metadata": {},
   "outputs": [
    {
     "data": {
      "text/plain": [
       "TensorShape([4, 2])"
      ]
     },
     "execution_count": 52,
     "metadata": {},
     "output_type": "execute_result"
    }
   ],
   "source": [
    "tf.concat((t1, t2), axis = 0).shape"
   ]
  },
  {
   "cell_type": "code",
   "execution_count": 50,
   "id": "7dc5f35c",
   "metadata": {},
   "outputs": [
    {
     "data": {
      "text/plain": [
       "<tf.Tensor: shape=(2, 4), dtype=int32, numpy=\n",
       "array([[1, 2, 5, 6],\n",
       "       [3, 4, 7, 8]])>"
      ]
     },
     "execution_count": 50,
     "metadata": {},
     "output_type": "execute_result"
    }
   ],
   "source": [
    "tf.concat((t1, t2), axis = 1)"
   ]
  },
  {
   "cell_type": "code",
   "execution_count": 53,
   "id": "d2a3052d",
   "metadata": {},
   "outputs": [
    {
     "data": {
      "text/plain": [
       "TensorShape([2, 4])"
      ]
     },
     "execution_count": 53,
     "metadata": {},
     "output_type": "execute_result"
    }
   ],
   "source": [
    "tf.concat((t1, t2), axis = 1).shape"
   ]
  },
  {
   "cell_type": "markdown",
   "id": "6b48b346",
   "metadata": {},
   "source": [
    "### Ranked Tensor"
   ]
  },
  {
   "cell_type": "code",
   "execution_count": 55,
   "id": "a624b99d",
   "metadata": {},
   "outputs": [
    {
     "name": "stdout",
     "output_type": "stream",
     "text": [
      "tf.Tensor(4, shape=(), dtype=int32)\n"
     ]
    }
   ],
   "source": [
    "rank_0_tensor = tf.constant(4)\n",
    "print(rank_0_tensor)"
   ]
  },
  {
   "cell_type": "code",
   "execution_count": 56,
   "id": "71cf6f6b",
   "metadata": {},
   "outputs": [
    {
     "name": "stdout",
     "output_type": "stream",
     "text": [
      "tf.Tensor([1 3 4 6 7], shape=(5,), dtype=int32)\n"
     ]
    }
   ],
   "source": [
    "rank_1_tensor = tf.constant([1, 3, 4, 6, 7])\n",
    "print(rank_1_tensor)"
   ]
  },
  {
   "cell_type": "code",
   "execution_count": 57,
   "id": "6392bf33",
   "metadata": {},
   "outputs": [
    {
     "name": "stdout",
     "output_type": "stream",
     "text": [
      "tf.Tensor(\n",
      "[[1 2 3]\n",
      " [4 5 6]\n",
      " [7 8 9]], shape=(3, 3), dtype=int32)\n"
     ]
    }
   ],
   "source": [
    "rank_2_tensor = tf.constant([[1, 2, 3],\n",
    "                             [4, 5, 6],\n",
    "                             [7, 8, 9]])\n",
    "print(rank_2_tensor)"
   ]
  },
  {
   "cell_type": "code",
   "execution_count": 58,
   "id": "8ecb61e1",
   "metadata": {},
   "outputs": [
    {
     "name": "stdout",
     "output_type": "stream",
     "text": [
      "tf.Tensor(\n",
      "[[[ 1  2  3  4  5]\n",
      "  [ 6  7  8  9 10]]\n",
      "\n",
      " [[11 12 13 14 15]\n",
      "  [16 17 18 19 20]]\n",
      "\n",
      " [[21 22 23 24 25]\n",
      "  [26 27 28 29 30]]], shape=(3, 2, 5), dtype=int32)\n"
     ]
    }
   ],
   "source": [
    "rank_3_tensor = tf.constant([[[1, 2, 3, 4, 5],\n",
    "                              [6, 7, 8, 9, 10]],\n",
    "                             [[11, 12, 13, 14, 15],\n",
    "                              [16, 17, 18, 19, 20]],\n",
    "                             [[21, 22, 23, 24, 25],\n",
    "                              [26, 27, 28, 29, 30]]])\n",
    "print(rank_3_tensor)"
   ]
  },
  {
   "cell_type": "markdown",
   "id": "f78ba3b8",
   "metadata": {},
   "source": [
    "### Tensor to Numpy array"
   ]
  },
  {
   "cell_type": "code",
   "execution_count": 60,
   "id": "f9af8dbb",
   "metadata": {},
   "outputs": [
    {
     "data": {
      "text/plain": [
       "array([[1, 2, 3],\n",
       "       [4, 5, 6],\n",
       "       [7, 8, 9]])"
      ]
     },
     "execution_count": 60,
     "metadata": {},
     "output_type": "execute_result"
    }
   ],
   "source": [
    "np.array(rank_2_tensor)"
   ]
  },
  {
   "cell_type": "code",
   "execution_count": 61,
   "id": "9ccbe1bb",
   "metadata": {},
   "outputs": [
    {
     "data": {
      "text/plain": [
       "array([[1, 2, 3],\n",
       "       [4, 5, 6],\n",
       "       [7, 8, 9]])"
      ]
     },
     "execution_count": 61,
     "metadata": {},
     "output_type": "execute_result"
    }
   ],
   "source": [
    "rank_2_tensor.numpy()"
   ]
  },
  {
   "cell_type": "markdown",
   "id": "3e0d88bb",
   "metadata": {},
   "source": [
    "### Maths on Tensors"
   ]
  },
  {
   "cell_type": "code",
   "execution_count": 62,
   "id": "fc0897e0",
   "metadata": {},
   "outputs": [
    {
     "name": "stdout",
     "output_type": "stream",
     "text": [
      "tf.Tensor(\n",
      "[[5 5]\n",
      " [5 5]], shape=(2, 2), dtype=int32) \n",
      "\n",
      "tf.Tensor(\n",
      "[[4 6]\n",
      " [6 4]], shape=(2, 2), dtype=int32) \n",
      "\n",
      "tf.Tensor(\n",
      "[[ 8  5]\n",
      " [20 13]], shape=(2, 2), dtype=int32) \n",
      "\n"
     ]
    }
   ],
   "source": [
    "a = tf.constant([[1, 2],\n",
    "                 [3, 4]])\n",
    "b = tf.constant([[4, 3],\n",
    "                 [2, 1]])\n",
    "\n",
    "print(tf.add(a, b), '\\n')\n",
    "print(tf.multiply(a, b), '\\n')\n",
    "print(tf.matmul(a, b), '\\n')"
   ]
  },
  {
   "cell_type": "code",
   "execution_count": 63,
   "id": "595801b1",
   "metadata": {},
   "outputs": [
    {
     "name": "stdout",
     "output_type": "stream",
     "text": [
      "tf.Tensor(\n",
      "[[5 5]\n",
      " [5 5]], shape=(2, 2), dtype=int32) \n",
      "\n",
      "tf.Tensor(\n",
      "[[4 6]\n",
      " [6 4]], shape=(2, 2), dtype=int32) \n",
      "\n",
      "tf.Tensor(\n",
      "[[ 8  5]\n",
      " [20 13]], shape=(2, 2), dtype=int32) \n",
      "\n"
     ]
    }
   ],
   "source": [
    "print((a + b), '\\n')             # elementwise addition\n",
    "print((a * b), '\\n')             # elementwise multiplication\n",
    "print((a @ b), '\\n')             # matrix multiplication"
   ]
  },
  {
   "cell_type": "code",
   "execution_count": 67,
   "id": "d294fd7d",
   "metadata": {},
   "outputs": [
    {
     "data": {
      "text/plain": [
       "<tf.Tensor: shape=(3, 2, 2, 4), dtype=float32, numpy=\n",
       "array([[[[1., 1., 1., 1.],\n",
       "         [1., 1., 1., 1.]],\n",
       "\n",
       "        [[1., 1., 1., 1.],\n",
       "         [1., 1., 1., 1.]]],\n",
       "\n",
       "\n",
       "       [[[1., 1., 1., 1.],\n",
       "         [1., 1., 1., 1.]],\n",
       "\n",
       "        [[1., 1., 1., 1.],\n",
       "         [1., 1., 1., 1.]]],\n",
       "\n",
       "\n",
       "       [[[1., 1., 1., 1.],\n",
       "         [1., 1., 1., 1.]],\n",
       "\n",
       "        [[1., 1., 1., 1.],\n",
       "         [1., 1., 1., 1.]]]], dtype=float32)>"
      ]
     },
     "execution_count": 67,
     "metadata": {},
     "output_type": "execute_result"
    }
   ],
   "source": [
    "rank_4_tensor = tf.ones([3, 2, 2, 4])\n",
    "rank_4_tensor"
   ]
  },
  {
   "cell_type": "code",
   "execution_count": 71,
   "id": "5cf11325",
   "metadata": {
    "scrolled": true
   },
   "outputs": [
    {
     "name": "stdout",
     "output_type": "stream",
     "text": [
      "Type of every element: <dtype: 'float32'> \n",
      "\n",
      "Number of Dimensions: 4 \n",
      "\n",
      "Shape of Tensor: (3, 2, 2, 4) \n",
      "\n",
      "Elements along axis 0 of Tensor: 3 \n",
      "\n",
      "Elements along last axis of Tensor: 4 \n",
      "\n",
      "Size of Tensor: 48\n"
     ]
    }
   ],
   "source": [
    "print('Type of every element:', rank_4_tensor.dtype, '\\n')\n",
    "print('Number of Dimensions:', rank_4_tensor.ndim, '\\n')\n",
    "print('Shape of Tensor:', rank_4_tensor.shape, '\\n')\n",
    "print('Elements along axis 0 of Tensor:', rank_4_tensor.shape[0], '\\n')\n",
    "print('Elements along last axis of Tensor:', rank_4_tensor.shape[-1], '\\n')\n",
    "print('Size of Tensor:', tf.size(rank_4_tensor).numpy())"
   ]
  },
  {
   "cell_type": "markdown",
   "id": "3aa0193b",
   "metadata": {},
   "source": [
    "### Indexing\n",
    "\n",
    "#### Single axis indexing"
   ]
  },
  {
   "cell_type": "code",
   "execution_count": 72,
   "id": "d4ee08b4",
   "metadata": {},
   "outputs": [
    {
     "name": "stdout",
     "output_type": "stream",
     "text": [
      "[ 2  4  6  7 23 87 21 98]\n"
     ]
    }
   ],
   "source": [
    "rank_1_tensor = tf.constant([2, 4, 6, 7, 23, 87, 21, 98])\n",
    "print(rank_1_tensor.numpy())"
   ]
  },
  {
   "cell_type": "code",
   "execution_count": 75,
   "id": "7f1a8f8f",
   "metadata": {},
   "outputs": [
    {
     "name": "stdout",
     "output_type": "stream",
     "text": [
      "First: 2 \n",
      "\n",
      "Second: 4 \n",
      "\n",
      "Last: 98 \n",
      "\n"
     ]
    }
   ],
   "source": [
    "print('First:', rank_1_tensor[0].numpy(), '\\n')\n",
    "print('Second:', rank_1_tensor[1].numpy(), '\\n')\n",
    "print('Last:', rank_1_tensor[-1].numpy(), '\\n')"
   ]
  },
  {
   "cell_type": "code",
   "execution_count": 76,
   "id": "89d22dd0",
   "metadata": {},
   "outputs": [
    {
     "name": "stdout",
     "output_type": "stream",
     "text": [
      "Everything: [ 2  4  6  7 23 87 21 98] \n",
      "\n",
      "Before 4: [2 4 6 7] \n",
      "\n",
      "From 4 to the end: [23 87 21 98] \n",
      "\n",
      "From 2, before 7: [ 6  7 23 87 21] \n",
      "\n",
      "Every other item: [ 2  6 23 21] \n",
      "\n",
      "Reversed: [98 21 87 23  7  6  4  2] \n",
      "\n"
     ]
    }
   ],
   "source": [
    "print('Everything:', rank_1_tensor[:].numpy(), '\\n')\n",
    "print('Before 4:', rank_1_tensor[:4].numpy(), '\\n')\n",
    "print('From 4 to the end:', rank_1_tensor[4:].numpy(), '\\n')\n",
    "print('From 2, before 7:', rank_1_tensor[2:7].numpy(), '\\n')\n",
    "print('Every other item:', rank_1_tensor[::2].numpy(), '\\n')\n",
    "print('Reversed:', rank_1_tensor[::-1].numpy(), '\\n')"
   ]
  },
  {
   "cell_type": "markdown",
   "id": "8b08d6a7",
   "metadata": {},
   "source": [
    "#### Multi-axis indexing"
   ]
  },
  {
   "cell_type": "code",
   "execution_count": 77,
   "id": "78f579d8",
   "metadata": {},
   "outputs": [
    {
     "name": "stdout",
     "output_type": "stream",
     "text": [
      "[[1 2 3]\n",
      " [4 5 6]\n",
      " [7 8 9]]\n"
     ]
    }
   ],
   "source": [
    "print(rank_2_tensor.numpy())"
   ]
  },
  {
   "cell_type": "code",
   "execution_count": 78,
   "id": "b6ee8ac3",
   "metadata": {},
   "outputs": [
    {
     "name": "stdout",
     "output_type": "stream",
     "text": [
      "5\n"
     ]
    }
   ],
   "source": [
    "print(rank_2_tensor[1, 1].numpy())"
   ]
  },
  {
   "cell_type": "code",
   "execution_count": 79,
   "id": "6b55374e",
   "metadata": {},
   "outputs": [
    {
     "name": "stdout",
     "output_type": "stream",
     "text": [
      "Second row: [4 5 6]\n",
      "Second column: [2 5 8]\n",
      "Last row: [7 8 9]\n",
      "First item in last column: 3\n",
      "Skip the first row: [[4 5 6]\n",
      " [7 8 9]]\n"
     ]
    }
   ],
   "source": [
    "print('Second row:', rank_2_tensor[1, :].numpy())\n",
    "print('Second column:', rank_2_tensor[:, 1].numpy())\n",
    "print('Last row:', rank_2_tensor[-1, :].numpy())\n",
    "print('First item in last column:', rank_2_tensor[0, -1].numpy())\n",
    "print('Skip the first row:', rank_2_tensor[1: ,:].numpy())"
   ]
  },
  {
   "cell_type": "code",
   "execution_count": 80,
   "id": "56a6a71a",
   "metadata": {},
   "outputs": [
    {
     "name": "stdout",
     "output_type": "stream",
     "text": [
      "tf.Tensor(\n",
      "[[ 5 10]\n",
      " [15 20]\n",
      " [25 30]], shape=(3, 2), dtype=int32)\n"
     ]
    }
   ],
   "source": [
    "print(rank_3_tensor[:, :, 4])"
   ]
  },
  {
   "cell_type": "markdown",
   "id": "16db1286",
   "metadata": {},
   "source": [
    "### Manipulating shapes"
   ]
  },
  {
   "cell_type": "code",
   "execution_count": 110,
   "id": "e0488eaf",
   "metadata": {},
   "outputs": [
    {
     "data": {
      "text/plain": [
       "<tf.Variable 'Variable:0' shape=(2, 2) dtype=float32, numpy=\n",
       "array([[1., 2.],\n",
       "       [3., 4.]], dtype=float32)>"
      ]
     },
     "execution_count": 110,
     "metadata": {},
     "output_type": "execute_result"
    }
   ],
   "source": [
    "# Variables\n",
    "# Most tensor operations work on variables as expected, although variables cannot be reshaped.\n",
    "# A tf.Variable represents a tensor whose value can be changed by running ops on it. \n",
    "# Specific ops allow you to read and modify the values of this tensor. Not possible on a normal tensor\n",
    "my_tensor = tf.constant([[1.0, 2.0], [3.0, 4.0]])\n",
    "my_variable = tf.Variable(my_tensor)\n",
    "my_variable"
   ]
  },
  {
   "cell_type": "code",
   "execution_count": 111,
   "id": "b054e62a",
   "metadata": {},
   "outputs": [
    {
     "name": "stdout",
     "output_type": "stream",
     "text": [
      "(4, 2)\n"
     ]
    }
   ],
   "source": [
    "var_x = tf.Variable(tf.constant([[3, 3], \n",
    "                                 [4, 4], \n",
    "                                 [7, 7], \n",
    "                                 [12, 12]]))\n",
    "print(var_x.shape)                   # shape returns a `TensorShape` object that shows the size on each dimension"
   ]
  },
  {
   "cell_type": "code",
   "execution_count": 112,
   "id": "ab6cd290",
   "metadata": {},
   "outputs": [
    {
     "name": "stdout",
     "output_type": "stream",
     "text": [
      "[4, 2]\n"
     ]
    }
   ],
   "source": [
    "print(var_x.shape.as_list())"
   ]
  },
  {
   "cell_type": "code",
   "execution_count": 113,
   "id": "859c6bda",
   "metadata": {},
   "outputs": [
    {
     "ename": "InvalidArgumentError",
     "evalue": "Input to reshape is a tensor with 8 values, but the requested shape has 4 [Op:Reshape]",
     "output_type": "error",
     "traceback": [
      "\u001b[1;31m---------------------------------------------------------------------------\u001b[0m",
      "\u001b[1;31mInvalidArgumentError\u001b[0m                      Traceback (most recent call last)",
      "\u001b[1;32m~\\AppData\\Local\\Temp/ipykernel_3620/4223718077.py\u001b[0m in \u001b[0;36m<module>\u001b[1;34m\u001b[0m\n\u001b[1;32m----> 1\u001b[1;33m \u001b[0mreshaped\u001b[0m \u001b[1;33m=\u001b[0m \u001b[0mtf\u001b[0m\u001b[1;33m.\u001b[0m\u001b[0mreshape\u001b[0m\u001b[1;33m(\u001b[0m\u001b[0mvar_x\u001b[0m\u001b[1;33m,\u001b[0m \u001b[1;33m[\u001b[0m\u001b[1;36m1\u001b[0m\u001b[1;33m,\u001b[0m \u001b[1;36m4\u001b[0m\u001b[1;33m]\u001b[0m\u001b[1;33m)\u001b[0m\u001b[1;33m\u001b[0m\u001b[1;33m\u001b[0m\u001b[0m\n\u001b[0m\u001b[0;32m      2\u001b[0m \u001b[0mreshaped\u001b[0m\u001b[1;33m\u001b[0m\u001b[1;33m\u001b[0m\u001b[0m\n",
      "\u001b[1;32mD:\\Analytics\\Anaconda3\\lib\\site-packages\\tensorflow\\python\\util\\traceback_utils.py\u001b[0m in \u001b[0;36merror_handler\u001b[1;34m(*args, **kwargs)\u001b[0m\n\u001b[0;32m    151\u001b[0m     \u001b[1;32mexcept\u001b[0m \u001b[0mException\u001b[0m \u001b[1;32mas\u001b[0m \u001b[0me\u001b[0m\u001b[1;33m:\u001b[0m\u001b[1;33m\u001b[0m\u001b[1;33m\u001b[0m\u001b[0m\n\u001b[0;32m    152\u001b[0m       \u001b[0mfiltered_tb\u001b[0m \u001b[1;33m=\u001b[0m \u001b[0m_process_traceback_frames\u001b[0m\u001b[1;33m(\u001b[0m\u001b[0me\u001b[0m\u001b[1;33m.\u001b[0m\u001b[0m__traceback__\u001b[0m\u001b[1;33m)\u001b[0m\u001b[1;33m\u001b[0m\u001b[1;33m\u001b[0m\u001b[0m\n\u001b[1;32m--> 153\u001b[1;33m       \u001b[1;32mraise\u001b[0m \u001b[0me\u001b[0m\u001b[1;33m.\u001b[0m\u001b[0mwith_traceback\u001b[0m\u001b[1;33m(\u001b[0m\u001b[0mfiltered_tb\u001b[0m\u001b[1;33m)\u001b[0m \u001b[1;32mfrom\u001b[0m \u001b[1;32mNone\u001b[0m\u001b[1;33m\u001b[0m\u001b[1;33m\u001b[0m\u001b[0m\n\u001b[0m\u001b[0;32m    154\u001b[0m     \u001b[1;32mfinally\u001b[0m\u001b[1;33m:\u001b[0m\u001b[1;33m\u001b[0m\u001b[1;33m\u001b[0m\u001b[0m\n\u001b[0;32m    155\u001b[0m       \u001b[1;32mdel\u001b[0m \u001b[0mfiltered_tb\u001b[0m\u001b[1;33m\u001b[0m\u001b[1;33m\u001b[0m\u001b[0m\n",
      "\u001b[1;32mD:\\Analytics\\Anaconda3\\lib\\site-packages\\tensorflow\\python\\eager\\execute.py\u001b[0m in \u001b[0;36mquick_execute\u001b[1;34m(op_name, num_outputs, inputs, attrs, ctx, name)\u001b[0m\n\u001b[0;32m     52\u001b[0m   \u001b[1;32mtry\u001b[0m\u001b[1;33m:\u001b[0m\u001b[1;33m\u001b[0m\u001b[1;33m\u001b[0m\u001b[0m\n\u001b[0;32m     53\u001b[0m     \u001b[0mctx\u001b[0m\u001b[1;33m.\u001b[0m\u001b[0mensure_initialized\u001b[0m\u001b[1;33m(\u001b[0m\u001b[1;33m)\u001b[0m\u001b[1;33m\u001b[0m\u001b[1;33m\u001b[0m\u001b[0m\n\u001b[1;32m---> 54\u001b[1;33m     tensors = pywrap_tfe.TFE_Py_Execute(ctx._handle, device_name, op_name,\n\u001b[0m\u001b[0;32m     55\u001b[0m                                         inputs, attrs, num_outputs)\n\u001b[0;32m     56\u001b[0m   \u001b[1;32mexcept\u001b[0m \u001b[0mcore\u001b[0m\u001b[1;33m.\u001b[0m\u001b[0m_NotOkStatusException\u001b[0m \u001b[1;32mas\u001b[0m \u001b[0me\u001b[0m\u001b[1;33m:\u001b[0m\u001b[1;33m\u001b[0m\u001b[1;33m\u001b[0m\u001b[0m\n",
      "\u001b[1;31mInvalidArgumentError\u001b[0m: Input to reshape is a tensor with 8 values, but the requested shape has 4 [Op:Reshape]"
     ]
    }
   ],
   "source": [
    "reshaped = tf.reshape(var_x, [1, 4])\n",
    "reshaped"
   ]
  },
  {
   "cell_type": "code",
   "execution_count": 114,
   "id": "c356f5d1",
   "metadata": {},
   "outputs": [
    {
     "name": "stdout",
     "output_type": "stream",
     "text": [
      "(4, 2)\n",
      "(1, 4)\n"
     ]
    }
   ],
   "source": [
    "print(var_x.shape)\n",
    "print(reshaped.shape)"
   ]
  },
  {
   "cell_type": "code",
   "execution_count": 115,
   "id": "623c40fd",
   "metadata": {},
   "outputs": [
    {
     "name": "stdout",
     "output_type": "stream",
     "text": [
      "tf.Tensor(\n",
      "[[[ 1  2  3  4  5]\n",
      "  [ 6  7  8  9 10]]\n",
      "\n",
      " [[11 12 13 14 15]\n",
      "  [16 17 18 19 20]]\n",
      "\n",
      " [[21 22 23 24 25]\n",
      "  [26 27 28 29 30]]], shape=(3, 2, 5), dtype=int32)\n"
     ]
    }
   ],
   "source": [
    "print(rank_3_tensor)"
   ]
  },
  {
   "cell_type": "code",
   "execution_count": 116,
   "id": "8cdb5aa6",
   "metadata": {},
   "outputs": [
    {
     "name": "stdout",
     "output_type": "stream",
     "text": [
      "tf.Tensor(\n",
      "[[ 1  2  3  4  5  6  7  8  9 10 11 12 13 14 15 16 17 18 19 20 21 22 23 24\n",
      "  25 26 27 28 29 30]], shape=(1, 30), dtype=int32)\n",
      "tf.Tensor(\n",
      "[ 1  2  3  4  5  6  7  8  9 10 11 12 13 14 15 16 17 18 19 20 21 22 23 24\n",
      " 25 26 27 28 29 30], shape=(30,), dtype=int32)\n"
     ]
    }
   ],
   "source": [
    "print(tf.reshape(rank_3_tensor, [1, -1]))\n",
    "print(tf.reshape(rank_3_tensor, [-1]))         # -1 passed in the `shape` argument says \"Whatever fits\""
   ]
  },
  {
   "cell_type": "code",
   "execution_count": 117,
   "id": "49648bcf",
   "metadata": {},
   "outputs": [
    {
     "name": "stdout",
     "output_type": "stream",
     "text": [
      "tf.Tensor(\n",
      "[[ 1  2  3  4  5]\n",
      " [ 6  7  8  9 10]\n",
      " [11 12 13 14 15]\n",
      " [16 17 18 19 20]\n",
      " [21 22 23 24 25]\n",
      " [26 27 28 29 30]], shape=(6, 5), dtype=int32) \n",
      "\n",
      "tf.Tensor(\n",
      "[[ 1  2  3  4  5  6  7  8  9 10]\n",
      " [11 12 13 14 15 16 17 18 19 20]\n",
      " [21 22 23 24 25 26 27 28 29 30]], shape=(3, 10), dtype=int32) \n",
      "\n"
     ]
    }
   ],
   "source": [
    "print(tf.reshape(rank_3_tensor, [3*2, 5]), '\\n')\n",
    "print(tf.reshape(rank_3_tensor, [3, -1]), '\\n')"
   ]
  },
  {
   "cell_type": "markdown",
   "id": "c3c09fd3",
   "metadata": {},
   "source": [
    "### Dtypes"
   ]
  },
  {
   "cell_type": "code",
   "execution_count": 118,
   "id": "1b64b3f9",
   "metadata": {},
   "outputs": [
    {
     "name": "stdout",
     "output_type": "stream",
     "text": [
      "tf.Tensor([2.3 5.8 9.4], shape=(3,), dtype=float64)\n",
      "tf.Tensor([2.3 5.8 9.4], shape=(3,), dtype=float16)\n",
      "tf.Tensor([2 5 9], shape=(3,), dtype=uint8)\n"
     ]
    }
   ],
   "source": [
    "float64_tensor = tf.constant([2.3, 5.8, 9.4], dtype = tf.float64)\n",
    "print(float64_tensor)\n",
    "float16_tensor = tf.cast(float64_tensor, dtype = tf.float16)\n",
    "print(float16_tensor)\n",
    "uint8_tensor = tf.cast(float16_tensor, dtype = tf.uint8)\n",
    "print(uint8_tensor)"
   ]
  },
  {
   "cell_type": "markdown",
   "id": "92780c64",
   "metadata": {},
   "source": [
    "### Convert to tensor"
   ]
  },
  {
   "cell_type": "code",
   "execution_count": 119,
   "id": "55236298",
   "metadata": {},
   "outputs": [
    {
     "data": {
      "text/plain": [
       "[[1, 2, 3], [4, 5, 6], [7, 8, 9]]"
      ]
     },
     "execution_count": 119,
     "metadata": {},
     "output_type": "execute_result"
    }
   ],
   "source": [
    "dd"
   ]
  },
  {
   "cell_type": "code",
   "execution_count": 120,
   "id": "1829fdb4",
   "metadata": {},
   "outputs": [
    {
     "data": {
      "text/plain": [
       "<tf.Tensor: shape=(3, 3), dtype=int32, numpy=\n",
       "array([[1, 2, 3],\n",
       "       [4, 5, 6],\n",
       "       [7, 8, 9]])>"
      ]
     },
     "execution_count": 120,
     "metadata": {},
     "output_type": "execute_result"
    }
   ],
   "source": [
    "tf.convert_to_tensor(dd)  \n",
    "# Most object classes like NumPy's ndarray, TensorShape, Python lists and tf.Variable will all get converted to Tensor"
   ]
  }
 ],
 "metadata": {
  "kernelspec": {
   "display_name": "Python 3 (ipykernel)",
   "language": "python",
   "name": "python3"
  },
  "language_info": {
   "codemirror_mode": {
    "name": "ipython",
    "version": 3
   },
   "file_extension": ".py",
   "mimetype": "text/x-python",
   "name": "python",
   "nbconvert_exporter": "python",
   "pygments_lexer": "ipython3",
   "version": "3.9.7"
  }
 },
 "nbformat": 4,
 "nbformat_minor": 5
}
